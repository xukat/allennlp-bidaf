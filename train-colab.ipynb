{
  "nbformat": 4,
  "nbformat_minor": 0,
  "metadata": {
    "kernelspec": {
      "display_name": "Python 3",
      "language": "python",
      "name": "python3"
    },
    "language_info": {
      "codemirror_mode": {
        "name": "ipython",
        "version": 3
      },
      "file_extension": ".py",
      "mimetype": "text/x-python",
      "name": "python",
      "nbconvert_exporter": "python",
      "pygments_lexer": "ipython3",
      "version": "3.6.9"
    },
    "colab": {
      "name": "train-colab.ipynb",
      "provenance": []
    }
  },
  "cells": [
    {
      "cell_type": "code",
      "metadata": {
        "id": "pPRKcUcu07BT"
      },
      "source": [
        "# define parameters\n",
        "    data_dir = args.data_dir\n",
        "    squad_ver = args.squad_ver\n",
        "\n",
        "    save_dir = args.save_dir\n",
        "    num_epochs = args.num_epochs\n",
        "    batch_size = args.batch_size\n",
        "    learning_rate = args.learning_rate\n",
        "    # if args.cuda_device is not None:\n",
        "    #     cuda_device = int(args.cuda_device)\n",
        "    # else:\n",
        "    #     cuda_device = None\n",
        "    cuda_device = args.cuda_device\n",
        "    distill = args.distill\n",
        "    if distill:\n",
        "        distill_weight = args.distill_weight\n",
        "\n",
        "    # download data and load\n",
        "    train_data_path, dev_data_path = download_data(data_dir, squad_ver)\n",
        "    train_data, dev_data = load_data(train_data_path, dev_data_path, squad_ver, distill)\n",
        "    train_loader, dev_loader = build_data_loaders(train_data, dev_data, batch_size)\n",
        "\n",
        "    # load pretrained model\n",
        "    print(\"Loading model\")\n",
        "    if args.distill:\n",
        "        model = BidirectionalAttentionFlowDistill.from_pretrained(distill_weight)\n",
        "    else:\n",
        "        bidaf_pred = pretrained.load_predictor(\"rc-bidaf\")\n",
        "        model = bidaf_pred._model\n",
        "\n",
        "    # move to gpu if using\n",
        "    if cuda_device >= 0:\n",
        "        model.cuda(cuda_device)\n",
        "\n",
        "    # index with vocab\n",
        "    print(\"Indexing\")\n",
        "    tic = time.time()\n",
        "\n",
        "    train_loader.index_with(model.vocab)\n",
        "    dev_loader.index_with(model.vocab)\n",
        "\n",
        "    print(\"Time elapsed:\", time.time()-tic)\n",
        "\n",
        "    # build trainer\n",
        "    print(\"Building trainer\")\n",
        "    trainer = build_trainer(model, save_dir, train_loader, dev_loader, num_epochs, learning_rate, cuda_device)\n",
        "\n",
        "    # train\n",
        "    print(\"Starting training\")\n",
        "    tic = time.time()\n",
        "\n",
        "    trainer.train()\n",
        "\n",
        "    print(\"Finished training\")\n",
        "    print(\"Time elapsed:\", time.time()-tic)\n",
        "\n",
        "    # evaluate trained model\n",
        "    print(\"Evaluating\")\n",
        "    tic = time.time()\n",
        "    results = evaluate(model, dev_loader, cuda_device, output_file=None, predictions_output_file=None)\n",
        "    print(\"Time elapsed:\", time.time()-tic)\n",
        "\n",
        "    pdb.set_trace()"
      ],
      "execution_count": null,
      "outputs": []
    }
  ]
}